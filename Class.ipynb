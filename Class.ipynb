{
 "cells": [
  {
   "cell_type": "code",
   "execution_count": 3,
   "id": "ca5273d3",
   "metadata": {},
   "outputs": [],
   "source": [
    "x = 4\n"
   ]
  },
  {
   "cell_type": "code",
   "execution_count": 4,
   "id": "4b694976",
   "metadata": {},
   "outputs": [],
   "source": [
    "y = 6\n"
   ]
  },
  {
   "cell_type": "code",
   "execution_count": 5,
   "id": "3832e89a",
   "metadata": {},
   "outputs": [
    {
     "data": {
      "text/plain": [
       "10"
      ]
     },
     "execution_count": 5,
     "metadata": {},
     "output_type": "execute_result"
    }
   ],
   "source": [
    "x+y"
   ]
  },
  {
   "cell_type": "markdown",
   "id": "615451f4",
   "metadata": {},
   "source": [
    "# Python Functions\n",
    "- Blocks of Reusable code (Define them first and refer to them multiple times) - they help break your code into manageable and testable parts\n",
    "-Def\n",
    "-Lambda function \n",
    "-Decorators\n",
    "\n"
   ]
  },
  {
   "cell_type": "code",
   "execution_count": 10,
   "id": "b5c49abc",
   "metadata": {},
   "outputs": [],
   "source": [
    "def greet(name):\n",
    "    return f'Hello {name}'"
   ]
  },
  {
   "cell_type": "code",
   "execution_count": 12,
   "id": "6ae8ade2",
   "metadata": {},
   "outputs": [
    {
     "data": {
      "text/plain": [
       "'Hello Duncan'"
      ]
     },
     "execution_count": 12,
     "metadata": {},
     "output_type": "execute_result"
    }
   ],
   "source": [
    "name1=greet(\"Duncan\")\n",
    "name1"
   ]
  },
  {
   "cell_type": "code",
   "execution_count": 13,
   "id": "f274e3f5",
   "metadata": {},
   "outputs": [
    {
     "data": {
      "text/plain": [
       "'Hello John'"
      ]
     },
     "execution_count": 13,
     "metadata": {},
     "output_type": "execute_result"
    }
   ],
   "source": [
    "\n",
    "name2= greet(\"John\")\n",
    "name2"
   ]
  },
  {
   "cell_type": "markdown",
   "id": "ba06d34f",
   "metadata": {},
   "source": [
    "#Function to add two Numbers"
   ]
  },
  {
   "cell_type": "code",
   "execution_count": 14,
   "id": "96383809",
   "metadata": {},
   "outputs": [],
   "source": [
    "def add(a,b):\n",
    "    return a + b"
   ]
  },
  {
   "cell_type": "code",
   "execution_count": 15,
   "id": "cd03f1f3",
   "metadata": {},
   "outputs": [
    {
     "data": {
      "text/plain": [
       "5"
      ]
     },
     "execution_count": 15,
     "metadata": {},
     "output_type": "execute_result"
    }
   ],
   "source": [
    "add1 = add(2,3)\n",
    "add1"
   ]
  },
  {
   "cell_type": "code",
   "execution_count": 19,
   "id": "69fa8c40",
   "metadata": {},
   "outputs": [
    {
     "data": {
      "text/plain": [
       "55"
      ]
     },
     "execution_count": 19,
     "metadata": {},
     "output_type": "execute_result"
    }
   ],
   "source": [
    "add2=add(23,32)\n",
    "add2"
   ]
  },
  {
   "cell_type": "code",
   "execution_count": 20,
   "id": "a8db5517",
   "metadata": {},
   "outputs": [],
   "source": [
    "def plus():\n",
    "    first_number = int(input(\"Enter your First number here\"))\n",
    "    Second_number = int(input(\"Enter your Second number here\"))\n",
    "    return first_number + Second_number"
   ]
  },
  {
   "cell_type": "code",
   "execution_count": 21,
   "id": "919edcdc",
   "metadata": {},
   "outputs": [
    {
     "data": {
      "text/plain": [
       "55"
      ]
     },
     "execution_count": 21,
     "metadata": {},
     "output_type": "execute_result"
    }
   ],
   "source": [
    "plus1=plus()\n",
    "plus1"
   ]
  },
  {
   "cell_type": "code",
   "execution_count": 22,
   "id": "46cb8779",
   "metadata": {},
   "outputs": [
    {
     "data": {
      "text/plain": [
       "132"
      ]
     },
     "execution_count": 22,
     "metadata": {},
     "output_type": "execute_result"
    }
   ],
   "source": [
    "plus2=plus()\n",
    "plus2"
   ]
  },
  {
   "cell_type": "code",
   "execution_count": 23,
   "id": "7c706b7e",
   "metadata": {},
   "outputs": [],
   "source": [
    "def multiply(a,b,c):\n",
    "    return a*b*c"
   ]
  },
  {
   "cell_type": "code",
   "execution_count": 24,
   "id": "912cf8de",
   "metadata": {},
   "outputs": [
    {
     "data": {
      "text/plain": [
       "24"
      ]
     },
     "execution_count": 24,
     "metadata": {},
     "output_type": "execute_result"
    }
   ],
   "source": [
    "Multi1 = multiply(2,3,4)\n",
    "Multi1"
   ]
  },
  {
   "cell_type": "markdown",
   "id": "74c2587a",
   "metadata": {},
   "source": [
    "# Lambda Functions\n",
    " - are simple one line functions"
   ]
  },
  {
   "cell_type": "code",
   "execution_count": 25,
   "id": "5708eb70",
   "metadata": {},
   "outputs": [],
   "source": [
    "product = lambda x,y,z : x*y*z"
   ]
  },
  {
   "cell_type": "code",
   "execution_count": 26,
   "id": "55b40fee",
   "metadata": {},
   "outputs": [
    {
     "data": {
      "text/plain": [
       "120000"
      ]
     },
     "execution_count": 26,
     "metadata": {},
     "output_type": "execute_result"
    }
   ],
   "source": [
    "product1 = product(10,30,400)\n",
    "product1"
   ]
  },
  {
   "cell_type": "code",
   "execution_count": 27,
   "id": "0d9a037b",
   "metadata": {},
   "outputs": [],
   "source": [
    "#Lambda functions to greet you\n",
    "\n",
    "greetings = lambda name : f\"Hello {name}\""
   ]
  },
  {
   "cell_type": "code",
   "execution_count": 30,
   "id": "b44397be",
   "metadata": {},
   "outputs": [
    {
     "data": {
      "text/plain": [
       "'Hello Thayu'"
      ]
     },
     "execution_count": 30,
     "metadata": {},
     "output_type": "execute_result"
    }
   ],
   "source": [
    "\n",
    "greetings1=greetings(\"Thayu\")\n",
    "greetings1\n"
   ]
  },
  {
   "cell_type": "markdown",
   "id": "4fcff0c9",
   "metadata": {},
   "source": [
    "# Data Structures in python\n",
    "We use Data structures to store data \n",
    "- Lists\n",
    "- Tuples\n",
    "-Sets\n",
    "-Dictionaries"
   ]
  },
  {
   "cell_type": "code",
   "execution_count": null,
   "id": "5865db4c",
   "metadata": {},
   "outputs": [
    {
     "data": {
      "text/plain": [
       "[1, 2, 3, 4, 5, 6, 7, 8, 9, 10, 11]"
      ]
     },
     "execution_count": 34,
     "metadata": {},
     "output_type": "execute_result"
    }
   ],
   "source": [
    "# Lists - is a data structure that is ordered and Mutable/manipulated data stored in [] brackets\\\n",
    "\n",
    "#adding new elements\n",
    "numbers = [1,2,3,4,5,6,7,8,9,10]\n",
    "numbers.append(11)\n",
    "numbers"
   ]
  },
  {
   "cell_type": "code",
   "execution_count": 35,
   "id": "223a082e",
   "metadata": {},
   "outputs": [
    {
     "data": {
      "text/plain": [
       "[1, 2, 3, 4, 5, 6, 7, 8, 9, 10, 11, 12, 13, 14, 15, 16, 17, 18, 19, 20]"
      ]
     },
     "execution_count": 35,
     "metadata": {},
     "output_type": "execute_result"
    }
   ],
   "source": [
    "\n",
    "nums= [12,13,14,15,16,17,18,19,20]\n",
    "All_nums = numbers + nums\n",
    "All_nums\n"
   ]
  },
  {
   "cell_type": "code",
   "execution_count": 36,
   "id": "e277e645",
   "metadata": {},
   "outputs": [
    {
     "data": {
      "text/plain": [
       "[1, 2, 3, 4, 5, 6, 7, 8, 9, 10]"
      ]
     },
     "execution_count": 36,
     "metadata": {},
     "output_type": "execute_result"
    }
   ],
   "source": [
    "#remove an element from a list\n",
    "numbers.pop()\n",
    "numbers "
   ]
  },
  {
   "cell_type": "code",
   "execution_count": 38,
   "id": "39620303",
   "metadata": {},
   "outputs": [
    {
     "data": {
      "text/plain": [
       "2"
      ]
     },
     "execution_count": 38,
     "metadata": {},
     "output_type": "execute_result"
    }
   ],
   "source": [
    "# Tuples - Ordered but immutable denoted/manipulated ()\n",
    "\n",
    "image_pixels = (1920,1080,1920)\n",
    "image_pixels.count(1920)\n"
   ]
  },
  {
   "cell_type": "code",
   "execution_count": null,
   "id": "f80411d2",
   "metadata": {},
   "outputs": [
    {
     "data": {
      "text/plain": [
       "1"
      ]
     },
     "execution_count": 39,
     "metadata": {},
     "output_type": "execute_result"
    }
   ],
   "source": [
    "image_pixels.index(1080)"
   ]
  },
  {
   "cell_type": "code",
   "execution_count": 40,
   "id": "e4d30cfe",
   "metadata": {},
   "outputs": [
    {
     "data": {
      "text/plain": [
       "{3, 4}"
      ]
     },
     "execution_count": 40,
     "metadata": {},
     "output_type": "execute_result"
    }
   ],
   "source": [
    "# sets - uses {}, do not take dublicates\n",
    "\n",
    "set1={1,2,3,4,5}\n",
    "set2 ={4,3,7,8,9,6}\n",
    "set3=set1.intersection(set2)\n",
    "set3"
   ]
  },
  {
   "cell_type": "code",
   "execution_count": 42,
   "id": "2d7b21d9",
   "metadata": {},
   "outputs": [
    {
     "data": {
      "text/plain": [
       "{1, 2, 3, 4, 5, 6, 7, 8, 9}"
      ]
     },
     "execution_count": 42,
     "metadata": {},
     "output_type": "execute_result"
    }
   ],
   "source": [
    "#union\n",
    "set4=set1.union(set2)\n",
    "set4"
   ]
  },
  {
   "cell_type": "code",
   "execution_count": 43,
   "id": "894057a3",
   "metadata": {},
   "outputs": [
    {
     "data": {
      "text/plain": [
       "{1, 2, 5}"
      ]
     },
     "execution_count": 43,
     "metadata": {},
     "output_type": "execute_result"
    }
   ],
   "source": [
    "set5=set1.difference(set2)\n",
    "set5"
   ]
  },
  {
   "cell_type": "code",
   "execution_count": 1,
   "id": "b1188a15",
   "metadata": {},
   "outputs": [],
   "source": [
    "#Dictionaries - denoted using {}\n",
    "person =  {\n",
    "    \"Name\" : \"Alice\",\n",
    "    \"age\" : 20,\n",
    "    \"fruits\": \"Pinnaple\"\n",
    "}"
   ]
  },
  {
   "cell_type": "code",
   "execution_count": 2,
   "id": "dd3cdaa3",
   "metadata": {},
   "outputs": [
    {
     "data": {
      "text/plain": [
       "dict"
      ]
     },
     "execution_count": 2,
     "metadata": {},
     "output_type": "execute_result"
    }
   ],
   "source": [
    "type(person)"
   ]
  },
  {
   "cell_type": "code",
   "execution_count": 3,
   "id": "04ef98dd",
   "metadata": {},
   "outputs": [
    {
     "data": {
      "text/plain": [
       "{'Name': 'Alice', 'age': 20, 'fruits': 'Pinnaple'}"
      ]
     },
     "execution_count": 3,
     "metadata": {},
     "output_type": "execute_result"
    }
   ],
   "source": [
    "person"
   ]
  },
  {
   "cell_type": "code",
   "execution_count": 4,
   "id": "5d8a83cc",
   "metadata": {},
   "outputs": [],
   "source": [
    "car ={\n",
    "    \"make\":[\"Toyota\",\"Mazda\",\"Renault\",\"Audi\",\"Mercedes\",\"Volkswagen\",\"Cupra\"],\n",
    "    \"Year\":[2009,2019,2017,2025,2024,2024,2025],\n",
    "    \"country\":[\"Japan\",\"Japan\",\"France\",\"Germany\",\"Germany\",\"Germany\",\"UK\"]\n",
    "}"
   ]
  },
  {
   "cell_type": "code",
   "execution_count": 7,
   "id": "f42da83f",
   "metadata": {},
   "outputs": [
    {
     "data": {
      "text/html": [
       "<div>\n",
       "<style scoped>\n",
       "    .dataframe tbody tr th:only-of-type {\n",
       "        vertical-align: middle;\n",
       "    }\n",
       "\n",
       "    .dataframe tbody tr th {\n",
       "        vertical-align: top;\n",
       "    }\n",
       "\n",
       "    .dataframe thead th {\n",
       "        text-align: right;\n",
       "    }\n",
       "</style>\n",
       "<table border=\"1\" class=\"dataframe\">\n",
       "  <thead>\n",
       "    <tr style=\"text-align: right;\">\n",
       "      <th></th>\n",
       "      <th>make</th>\n",
       "      <th>Year</th>\n",
       "      <th>country</th>\n",
       "    </tr>\n",
       "  </thead>\n",
       "  <tbody>\n",
       "    <tr>\n",
       "      <th>0</th>\n",
       "      <td>Toyota</td>\n",
       "      <td>2009</td>\n",
       "      <td>Japan</td>\n",
       "    </tr>\n",
       "    <tr>\n",
       "      <th>1</th>\n",
       "      <td>Mazda</td>\n",
       "      <td>2019</td>\n",
       "      <td>Japan</td>\n",
       "    </tr>\n",
       "    <tr>\n",
       "      <th>2</th>\n",
       "      <td>Renault</td>\n",
       "      <td>2017</td>\n",
       "      <td>France</td>\n",
       "    </tr>\n",
       "    <tr>\n",
       "      <th>3</th>\n",
       "      <td>Audi</td>\n",
       "      <td>2025</td>\n",
       "      <td>Germany</td>\n",
       "    </tr>\n",
       "    <tr>\n",
       "      <th>4</th>\n",
       "      <td>Mercedes</td>\n",
       "      <td>2024</td>\n",
       "      <td>Germany</td>\n",
       "    </tr>\n",
       "  </tbody>\n",
       "</table>\n",
       "</div>"
      ],
      "text/plain": [
       "       make  Year  country\n",
       "0    Toyota  2009    Japan\n",
       "1     Mazda  2019    Japan\n",
       "2   Renault  2017   France\n",
       "3      Audi  2025  Germany\n",
       "4  Mercedes  2024  Germany"
      ]
     },
     "execution_count": 7,
     "metadata": {},
     "output_type": "execute_result"
    }
   ],
   "source": [
    "import pandas as pd\n",
    "\n",
    "df = pd.DataFrame(car)\n",
    "df.head()"
   ]
  },
  {
   "cell_type": "markdown",
   "id": "bca388dc",
   "metadata": {},
   "source": [
    "# Indexing and Slicing\n",
    "- "
   ]
  },
  {
   "cell_type": "code",
   "execution_count": null,
   "id": "13578dab",
   "metadata": {},
   "outputs": [
    {
     "data": {
      "text/plain": [
       "2"
      ]
     },
     "execution_count": 8,
     "metadata": {},
     "output_type": "execute_result"
    }
   ],
   "source": [
    "# Indexing\n",
    "numbers = [1,2,3,4,5,6,7,8,9,10]\n",
    "numbers[1]"
   ]
  },
  {
   "cell_type": "code",
   "execution_count": 12,
   "id": "56e5c029",
   "metadata": {},
   "outputs": [
    {
     "data": {
      "text/plain": [
       "10"
      ]
     },
     "execution_count": 12,
     "metadata": {},
     "output_type": "execute_result"
    }
   ],
   "source": [
    "numbers[9]"
   ]
  },
  {
   "cell_type": "code",
   "execution_count": 14,
   "id": "14a686c2",
   "metadata": {},
   "outputs": [
    {
     "data": {
      "text/plain": [
       "10"
      ]
     },
     "execution_count": 14,
     "metadata": {},
     "output_type": "execute_result"
    }
   ],
   "source": [
    "last_variable = numbers[-1]\n",
    "last_variable"
   ]
  },
  {
   "cell_type": "code",
   "execution_count": 15,
   "id": "1ec0e243",
   "metadata": {},
   "outputs": [
    {
     "data": {
      "text/plain": [
       "[1, 2, 3, 4]"
      ]
     },
     "execution_count": 15,
     "metadata": {},
     "output_type": "execute_result"
    }
   ],
   "source": [
    "# Slicing\n",
    "numbers [:4]\n"
   ]
  },
  {
   "cell_type": "code",
   "execution_count": 16,
   "id": "4f83cb35",
   "metadata": {},
   "outputs": [
    {
     "data": {
      "text/plain": [
       "[2, 3, 4, 5]"
      ]
     },
     "execution_count": 16,
     "metadata": {},
     "output_type": "execute_result"
    }
   ],
   "source": [
    "numbers[1:5]"
   ]
  },
  {
   "cell_type": "code",
   "execution_count": 17,
   "id": "6ddfc4c1",
   "metadata": {},
   "outputs": [
    {
     "data": {
      "text/plain": [
       "[5, 6, 7, 8, 9, 10]"
      ]
     },
     "execution_count": 17,
     "metadata": {},
     "output_type": "execute_result"
    }
   ],
   "source": [
    "numbers[4:]"
   ]
  },
  {
   "cell_type": "code",
   "execution_count": 22,
   "id": "57e468ff",
   "metadata": {},
   "outputs": [
    {
     "data": {
      "text/plain": [
       "[5, 6, 7, 8, 9, 10]"
      ]
     },
     "execution_count": 22,
     "metadata": {},
     "output_type": "execute_result"
    }
   ],
   "source": [
    "nums = numbers[4:]\n",
    "nums"
   ]
  },
  {
   "cell_type": "code",
   "execution_count": 25,
   "id": "990af5de",
   "metadata": {},
   "outputs": [],
   "source": [
    "nums.reverse()"
   ]
  },
  {
   "cell_type": "markdown",
   "id": "39880f19",
   "metadata": {},
   "source": [
    "# Object Oreinted Programming\n",
    "- Class -  is the blueprint of creating objects; starts with a capital letter\n",
    "- Instance\n",
    "-  Atreibute - Define the objects \n",
    "- Constructor Method\n",
    "- Method\n",
    "- Return Keyword"
   ]
  },
  {
   "cell_type": "markdown",
   "id": "5b692a42",
   "metadata": {},
   "source": [
    "#Class\n",
    "#EX Define the person by name, Age, gender and Nationality- constructor method  df init\n",
    "class person:\n"
   ]
  },
  {
   "cell_type": "code",
   "execution_count": 1,
   "id": "752f7de1",
   "metadata": {},
   "outputs": [],
   "source": [
    "class Person:\n",
    "    def __init__(self,name,age,gender,nationality):\n",
    "        self.name = name\n",
    "        self.age = age\n",
    "        self.gender = gender\n",
    "        self.nationality = nationality\n",
    "    \n",
    "    def speak (self):\n",
    "        return f\"My name is {self.name} I am {self.age} years old I am a {self.gender} of {self.nationality} origin.\""
   ]
  },
  {
   "cell_type": "code",
   "execution_count": 2,
   "id": "0c98e832",
   "metadata": {},
   "outputs": [
    {
     "name": "stdout",
     "output_type": "stream",
     "text": [
      "My name is Will I am 28 years old I am a Male of Kenyan origin.\n"
     ]
    }
   ],
   "source": [
    "#initializing  the class - my attributes\n",
    "person1 = Person(\"Will\",28,\"Male\",\"Kenyan\")\n",
    "print(person1.speak())"
   ]
  },
  {
   "cell_type": "code",
   "execution_count": 3,
   "id": "8608f19d",
   "metadata": {},
   "outputs": [
    {
     "data": {
      "text/plain": [
       "'My name is Dun I am 38 years old I am a Male of Kenyan origin.'"
      ]
     },
     "execution_count": 3,
     "metadata": {},
     "output_type": "execute_result"
    }
   ],
   "source": [
    "person2 = Person(\"Dun\",38,\"Male\",\"Kenyan\")\n",
    "person2.speak()"
   ]
  },
  {
   "cell_type": "code",
   "execution_count": 4,
   "id": "4abb1b43",
   "metadata": {},
   "outputs": [],
   "source": [
    "#Example 3\n",
    "class Rectangle:\n",
    "    def __init__(self,length,width):\n",
    "        self.length = length\n",
    "        self.width = width\n",
    "    def area(self):\n",
    "        area = self.length *self.width\n",
    "        return f\"The area of a rectangle with {self.length} and {self.width} is {area}.\"\n",
    "    def perimeter(self):\n",
    "        perimeter = 2*(self.length + self.width)\n",
    "        return f\"The perimeter of a rectangle with {self.length} and {self.width} is {perimeter}.\""
   ]
  },
  {
   "cell_type": "code",
   "execution_count": 12,
   "id": "fae95e58",
   "metadata": {},
   "outputs": [
    {
     "name": "stdout",
     "output_type": "stream",
     "text": [
      "The area of a rectangle with 60 and 41 is 2460.\n",
      "The perimeter of a rectangle with 60 and 41 is 202.\n"
     ]
    }
   ],
   "source": [
    "#initilaizing the class to give answers\n",
    "rect1 = Rectangle(60,41)\n",
    "print(rect1.area())\n",
    "print(rect1.perimeter())"
   ]
  },
  {
   "cell_type": "code",
   "execution_count": 13,
   "id": "deb2418b",
   "metadata": {},
   "outputs": [],
   "source": [
    "#Ex 4  Circle Object (Contstant)\n",
    "\n",
    "\n",
    "class Circle:\n",
    "    def __init__(self, radius):\n",
    "        self.radius = radius\n",
    "        self.PI = 22/7\n",
    "    def area(self):\n",
    "        area = self.PI*(self.radius**2)\n",
    "        return f\"The area of a circle with {self.radius} is {area}\"\n",
    "    def perimeter(self):\n",
    "        perimeter = 2*(self.PI*self.radius)\n",
    "        return f\"The Perimiter of a circle with {self.radius}is {perimeter}\""
   ]
  },
  {
   "cell_type": "code",
   "execution_count": 16,
   "id": "f30c12d8",
   "metadata": {},
   "outputs": [
    {
     "name": "stdout",
     "output_type": "stream",
     "text": [
      "The area of a circle with 14 is 616.0\n",
      "The Perimiter of a circle with 14is 88.0\n"
     ]
    }
   ],
   "source": [
    "Cir1 = Circle(14)\n",
    "print(Cir1.area())\n",
    "print(Cir1.perimeter())"
   ]
  },
  {
   "cell_type": "markdown",
   "id": "3f4bcc70",
   "metadata": {},
   "source": [
    "# CLASS INHERITANCE\n",
    "- Parent class: Where to define atributes\n",
    "- Child/sub class: Inherits attributes from the parent class.\n",
    "            - inherts all atttribtes from parent class and may include additional attributes\n",
    "            \n"
   ]
  },
  {
   "cell_type": "code",
   "execution_count": 18,
   "id": "d88275b8",
   "metadata": {},
   "outputs": [],
   "source": [
    "# Define arrtributes for a parent class\n",
    "#EX1 : Parent class Animal\n",
    "class Animal:\n",
    "    def __init__(self, name, age, breed):\n",
    "        self.name = name\n",
    "        self.age = age\n",
    "        self.breed = breed\n",
    "    def speak(self):\n",
    "        return f\"{self.name} is {self.age} years old and is a {self.breed}. {self.name} makes a sound.\"\n",
    "    \n",
    "        "
   ]
  },
  {
   "cell_type": "code",
   "execution_count": 19,
   "id": "a36fe4b2",
   "metadata": {},
   "outputs": [],
   "source": [
    "# First Sub class\n",
    "class Dog(Animal):\n",
    "    def speak(self):\n",
    "       return f\"{self.name} is {self.age} years old and is a {self.breed}. {self.name} barks.\"\n",
    "        "
   ]
  },
  {
   "cell_type": "code",
   "execution_count": 21,
   "id": "779e6b0e",
   "metadata": {},
   "outputs": [
    {
     "name": "stdout",
     "output_type": "stream",
     "text": [
      "Balboa is 3 years old and is a Rockwiller. Balboa barks.\n"
     ]
    }
   ],
   "source": [
    "dog1 = Dog(\"Balboa\",3,\"Rockwiller\")\n",
    "print(dog1.speak())"
   ]
  },
  {
   "cell_type": "code",
   "execution_count": 22,
   "id": "aeea5f7c",
   "metadata": {},
   "outputs": [
    {
     "name": "stdout",
     "output_type": "stream",
     "text": [
      "Kani is 2 years old and is a Siberian Husky. Kani barks.\n"
     ]
    }
   ],
   "source": [
    "dog2 = Dog(\"Kani\",2,\"Siberian Husky\")\n",
    "print(dog2.speak())"
   ]
  },
  {
   "cell_type": "code",
   "execution_count": 23,
   "id": "1092c895",
   "metadata": {},
   "outputs": [],
   "source": [
    "class Cat(Animal):\n",
    "    def speak(self):\n",
    "       return f\"{self.name} is {self.age} years old and is a {self.breed}. {self.name} Meows.\""
   ]
  },
  {
   "cell_type": "code",
   "execution_count": 24,
   "id": "836b2c8b",
   "metadata": {},
   "outputs": [
    {
     "name": "stdout",
     "output_type": "stream",
     "text": [
      "Dotty is 1 years old and is a Maine coon . Dotty Meows.\n"
     ]
    }
   ],
   "source": [
    "cat1 = Cat(\"Dotty\",1,\"Maine coon \")\n",
    "print(cat1.speak())"
   ]
  },
  {
   "cell_type": "code",
   "execution_count": null,
   "id": "d90d2d54",
   "metadata": {},
   "outputs": [],
   "source": [
    "# Write  a Class Car; with attributes brand and year. Add a method called Display that prints a formatted string\n",
    "# Create a class employee with name and Salary\n",
    "# create a subclass with manager with extra departments and add a method called display to display full details."
   ]
  },
  {
   "cell_type": "markdown",
   "id": "8054c10d",
   "metadata": {},
   "source": [
    "File Input and Output\n",
    " - File input writes files in python\n",
    "  - file output Read files in python\n",
    "  - use with keyword and open function"
   ]
  },
  {
   "cell_type": "code",
   "execution_count": 4,
   "id": "1640164c",
   "metadata": {},
   "outputs": [],
   "source": [
    "#example : Create File , Sample.txt, and write, Hello world into the file \n",
    "with open (\"sample.txt\",\"w\") as file:\n",
    "    file.write (\"LuxDevHQ\")"
   ]
  },
  {
   "cell_type": "code",
   "execution_count": 5,
   "id": "80158d09",
   "metadata": {},
   "outputs": [
    {
     "name": "stdout",
     "output_type": "stream",
     "text": [
      "LuxDevHQ\n"
     ]
    }
   ],
   "source": [
    "#Read the content of the above file\n",
    "with open(\"sample.txt\", \"r\") as file:\n",
    "    contet =file.read()\n",
    "    print(contet)"
   ]
  }
 ],
 "metadata": {
  "kernelspec": {
   "display_name": "Python 3",
   "language": "python",
   "name": "python3"
  },
  "language_info": {
   "codemirror_mode": {
    "name": "ipython",
    "version": 3
   },
   "file_extension": ".py",
   "mimetype": "text/x-python",
   "name": "python",
   "nbconvert_exporter": "python",
   "pygments_lexer": "ipython3",
   "version": "3.13.4"
  }
 },
 "nbformat": 4,
 "nbformat_minor": 5
}
